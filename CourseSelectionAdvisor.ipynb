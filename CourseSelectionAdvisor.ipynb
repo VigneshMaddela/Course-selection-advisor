{
  "nbformat": 4,
  "nbformat_minor": 0,
  "metadata": {
    "colab": {
      "provenance": []
    },
    "kernelspec": {
      "name": "python3",
      "display_name": "Python 3"
    },
    "language_info": {
      "name": "python"
    }
  },
  "cells": [
    {
      "cell_type": "code",
      "execution_count": 2,
      "metadata": {
        "colab": {
          "base_uri": "https://localhost:8080/"
        },
        "id": "-PH_a14MfLzy",
        "outputId": "05bfee06-90d5-4faa-c412-6abdc9c80141"
      },
      "outputs": [
        {
          "output_type": "stream",
          "name": "stdout",
          "text": [
            "Optimal Course Schedule:\n",
            "- Machine Learning (Utility Score: 3.80)\n",
            "- Cybersecurity (Utility Score: 3.00)\n",
            "- Database Systems (Utility Score: 4.20)\n"
          ]
        }
      ],
      "source": [
        "import itertools\n",
        "\n",
        "class Course:\n",
        "    def __init__(self, name, content_relevance, workload, schedule_conflicts, credit_hours):\n",
        "        self.name = name\n",
        "        self.content_relevance = content_relevance  # Score (0-10) based on relevance to student's goal\n",
        "        self.workload = workload  # Score (0-10), where higher means more workload\n",
        "        self.schedule_conflicts = schedule_conflicts  # Number of conflicts with other courses\n",
        "        self.credit_hours = credit_hours  # Credit hours for the course\n",
        "\n",
        "    def utility_score(self, goal_weight=0.6, workload_weight=0.2, schedule_weight=0.2):\n",
        "        return (\n",
        "            goal_weight * self.content_relevance -  # Higher relevance is better\n",
        "            workload_weight * self.workload -  # Lower workload is preferred\n",
        "            schedule_weight * self.schedule_conflicts  # Fewer conflicts are better\n",
        "        )\n",
        "\n",
        "class UtilityBasedAgent:\n",
        "    def __init__(self, courses, max_credits):\n",
        "        self.courses = courses\n",
        "        self.max_credits = max_credits\n",
        "\n",
        "    def generate_best_schedule(self):\n",
        "        best_schedule = None\n",
        "        best_score = float('-inf')\n",
        "\n",
        "        for r in range(1, len(self.courses) + 1):\n",
        "            for combination in itertools.combinations(self.courses, r):\n",
        "                total_credits = sum(course.credit_hours for course in combination)\n",
        "                if total_credits <= self.max_credits:\n",
        "                    total_score = sum(course.utility_score() for course in combination)\n",
        "                    if total_score > best_score:\n",
        "                        best_score = total_score\n",
        "                        best_schedule = combination\n",
        "\n",
        "        return best_schedule\n",
        "\n",
        "# Example Courses\n",
        "courses = [\n",
        "    Course(\"Machine Learning\", content_relevance=9, workload=7, schedule_conflicts=1, credit_hours=3),\n",
        "    Course(\"Data Science\", content_relevance=10, workload=6, schedule_conflicts=0, credit_hours=4),\n",
        "    Course(\"Computer Networks\", content_relevance=7, workload=5, schedule_conflicts=2, credit_hours=3),\n",
        "    Course(\"Cybersecurity\", content_relevance=8, workload=8, schedule_conflicts=1, credit_hours=3),\n",
        "    Course(\"Database Systems\", content_relevance=9, workload=6, schedule_conflicts=0, credit_hours=3)\n",
        "]\n",
        "\n",
        "# Student's maximum credit hours allowed\n",
        "max_credits = 9\n",
        "\n",
        "# Create a utility-based agent\n",
        "advisor = UtilityBasedAgent(courses, max_credits)\n",
        "\n",
        "# Get the best schedule\n",
        "best_schedule = advisor.generate_best_schedule()\n",
        "\n",
        "print(\"Optimal Course Schedule:\")\n",
        "for course in best_schedule:\n",
        "    print(f\"- {course.name} (Utility Score: {course.utility_score():.2f})\")"
      ]
    }
  ]
}